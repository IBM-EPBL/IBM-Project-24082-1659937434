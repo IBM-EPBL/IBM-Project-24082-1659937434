{
  "nbformat": 4,
  "nbformat_minor": 0,
  "metadata": {
    "colab": {
      "provenance": []
    },
    "kernelspec": {
      "name": "python3",
      "display_name": "Python 3"
    },
    "language_info": {
      "name": "python"
    }
  },
  "cells": [
    {
      "cell_type": "markdown",
      "source": [
        "Predict the Length of Stay for each patient so that the hospitals can optimize resources and function better"
      ],
      "metadata": {
        "id": "COCFtrp5gHbY"
      }
    },
    {
      "cell_type": "code",
      "source": [
        "import numpy as np\n",
        "import pandas as pd\n",
        "import matplotlib.pyplot as plt\n",
        "np.set_printoptions(suppress=True)\n",
        "import warnings\n",
        "warnings.filterwarnings('ignore')"
      ],
      "metadata": {
        "id": "DwgeaM9ggUee"
      },
      "execution_count": 1,
      "outputs": []
    },
    {
      "cell_type": "markdown",
      "source": [
        "loading dataset"
      ],
      "metadata": {
        "id": "GhgAsEzjxUBz"
      }
    },
    {
      "cell_type": "code",
      "source": [
        "d1 = pd.read_csv('/content/sample_sub.csv')\n",
        "d2 = pd.read_csv('/content/train_data_dictionary.csv')\n",
        "test = pd.read_csv('/content/test_data.csv')\n",
        "train = pd.read_csv('/content/train_data.csv')"
      ],
      "metadata": {
        "id": "Qhfc2AgixWyW"
      },
      "execution_count": 3,
      "outputs": []
    },
    {
      "cell_type": "markdown",
      "source": [
        "Data exploration"
      ],
      "metadata": {
        "id": "_kxhqgmtxqoJ"
      }
    },
    {
      "cell_type": "code",
      "source": [
        "train.head()"
      ],
      "metadata": {
        "colab": {
          "base_uri": "https://localhost:8080/",
          "height": 409
        },
        "id": "rlbUtqN1xuBM",
        "outputId": "1ed1c9d4-7198-4c73-abae-e25b6598c182"
      },
      "execution_count": 4,
      "outputs": [
        {
          "output_type": "execute_result",
          "data": {
            "text/plain": [
              "   case_id  Hospital_code Hospital_type_code  City_Code_Hospital  \\\n",
              "0        1              8                  c                   3   \n",
              "1        2              2                  c                   5   \n",
              "2        3             10                  e                   1   \n",
              "3        4             26                  b                   2   \n",
              "4        5             26                  b                   2   \n",
              "\n",
              "  Hospital_region_code  Available Extra Rooms in Hospital    Department  \\\n",
              "0                    Z                                  3  radiotherapy   \n",
              "1                    Z                                  2  radiotherapy   \n",
              "2                    X                                  2    anesthesia   \n",
              "3                    Y                                  2  radiotherapy   \n",
              "4                    Y                                  2  radiotherapy   \n",
              "\n",
              "  Ward_Type Ward_Facility_Code  Bed Grade  patientid  City_Code_Patient  \\\n",
              "0         R                  F        2.0    31397.0                7.0   \n",
              "1         S                  F        2.0    31397.0                7.0   \n",
              "2         S                  E        2.0    31397.0                7.0   \n",
              "3         R                  D        2.0    31397.0                7.0   \n",
              "4         S                  D        2.0    31397.0                7.0   \n",
              "\n",
              "  Type of Admission Severity of Illness  Visitors with Patient    Age  \\\n",
              "0         Emergency             Extreme                    2.0  51-60   \n",
              "1            Trauma             Extreme                    2.0  51-60   \n",
              "2            Trauma             Extreme                    2.0  51-60   \n",
              "3            Trauma             Extreme                    2.0  51-60   \n",
              "4            Trauma             Extreme                    2.0  51-60   \n",
              "\n",
              "   Admission_Deposit   Stay  \n",
              "0             4911.0   0-10  \n",
              "1             5954.0  41-50  \n",
              "2             4745.0  31-40  \n",
              "3             7272.0  41-50  \n",
              "4             5558.0  41-50  "
            ],
            "text/html": [
              "\n",
              "  <div id=\"df-b17b1f8e-7be1-4a35-84fb-effa5edcb7e0\">\n",
              "    <div class=\"colab-df-container\">\n",
              "      <div>\n",
              "<style scoped>\n",
              "    .dataframe tbody tr th:only-of-type {\n",
              "        vertical-align: middle;\n",
              "    }\n",
              "\n",
              "    .dataframe tbody tr th {\n",
              "        vertical-align: top;\n",
              "    }\n",
              "\n",
              "    .dataframe thead th {\n",
              "        text-align: right;\n",
              "    }\n",
              "</style>\n",
              "<table border=\"1\" class=\"dataframe\">\n",
              "  <thead>\n",
              "    <tr style=\"text-align: right;\">\n",
              "      <th></th>\n",
              "      <th>case_id</th>\n",
              "      <th>Hospital_code</th>\n",
              "      <th>Hospital_type_code</th>\n",
              "      <th>City_Code_Hospital</th>\n",
              "      <th>Hospital_region_code</th>\n",
              "      <th>Available Extra Rooms in Hospital</th>\n",
              "      <th>Department</th>\n",
              "      <th>Ward_Type</th>\n",
              "      <th>Ward_Facility_Code</th>\n",
              "      <th>Bed Grade</th>\n",
              "      <th>patientid</th>\n",
              "      <th>City_Code_Patient</th>\n",
              "      <th>Type of Admission</th>\n",
              "      <th>Severity of Illness</th>\n",
              "      <th>Visitors with Patient</th>\n",
              "      <th>Age</th>\n",
              "      <th>Admission_Deposit</th>\n",
              "      <th>Stay</th>\n",
              "    </tr>\n",
              "  </thead>\n",
              "  <tbody>\n",
              "    <tr>\n",
              "      <th>0</th>\n",
              "      <td>1</td>\n",
              "      <td>8</td>\n",
              "      <td>c</td>\n",
              "      <td>3</td>\n",
              "      <td>Z</td>\n",
              "      <td>3</td>\n",
              "      <td>radiotherapy</td>\n",
              "      <td>R</td>\n",
              "      <td>F</td>\n",
              "      <td>2.0</td>\n",
              "      <td>31397.0</td>\n",
              "      <td>7.0</td>\n",
              "      <td>Emergency</td>\n",
              "      <td>Extreme</td>\n",
              "      <td>2.0</td>\n",
              "      <td>51-60</td>\n",
              "      <td>4911.0</td>\n",
              "      <td>0-10</td>\n",
              "    </tr>\n",
              "    <tr>\n",
              "      <th>1</th>\n",
              "      <td>2</td>\n",
              "      <td>2</td>\n",
              "      <td>c</td>\n",
              "      <td>5</td>\n",
              "      <td>Z</td>\n",
              "      <td>2</td>\n",
              "      <td>radiotherapy</td>\n",
              "      <td>S</td>\n",
              "      <td>F</td>\n",
              "      <td>2.0</td>\n",
              "      <td>31397.0</td>\n",
              "      <td>7.0</td>\n",
              "      <td>Trauma</td>\n",
              "      <td>Extreme</td>\n",
              "      <td>2.0</td>\n",
              "      <td>51-60</td>\n",
              "      <td>5954.0</td>\n",
              "      <td>41-50</td>\n",
              "    </tr>\n",
              "    <tr>\n",
              "      <th>2</th>\n",
              "      <td>3</td>\n",
              "      <td>10</td>\n",
              "      <td>e</td>\n",
              "      <td>1</td>\n",
              "      <td>X</td>\n",
              "      <td>2</td>\n",
              "      <td>anesthesia</td>\n",
              "      <td>S</td>\n",
              "      <td>E</td>\n",
              "      <td>2.0</td>\n",
              "      <td>31397.0</td>\n",
              "      <td>7.0</td>\n",
              "      <td>Trauma</td>\n",
              "      <td>Extreme</td>\n",
              "      <td>2.0</td>\n",
              "      <td>51-60</td>\n",
              "      <td>4745.0</td>\n",
              "      <td>31-40</td>\n",
              "    </tr>\n",
              "    <tr>\n",
              "      <th>3</th>\n",
              "      <td>4</td>\n",
              "      <td>26</td>\n",
              "      <td>b</td>\n",
              "      <td>2</td>\n",
              "      <td>Y</td>\n",
              "      <td>2</td>\n",
              "      <td>radiotherapy</td>\n",
              "      <td>R</td>\n",
              "      <td>D</td>\n",
              "      <td>2.0</td>\n",
              "      <td>31397.0</td>\n",
              "      <td>7.0</td>\n",
              "      <td>Trauma</td>\n",
              "      <td>Extreme</td>\n",
              "      <td>2.0</td>\n",
              "      <td>51-60</td>\n",
              "      <td>7272.0</td>\n",
              "      <td>41-50</td>\n",
              "    </tr>\n",
              "    <tr>\n",
              "      <th>4</th>\n",
              "      <td>5</td>\n",
              "      <td>26</td>\n",
              "      <td>b</td>\n",
              "      <td>2</td>\n",
              "      <td>Y</td>\n",
              "      <td>2</td>\n",
              "      <td>radiotherapy</td>\n",
              "      <td>S</td>\n",
              "      <td>D</td>\n",
              "      <td>2.0</td>\n",
              "      <td>31397.0</td>\n",
              "      <td>7.0</td>\n",
              "      <td>Trauma</td>\n",
              "      <td>Extreme</td>\n",
              "      <td>2.0</td>\n",
              "      <td>51-60</td>\n",
              "      <td>5558.0</td>\n",
              "      <td>41-50</td>\n",
              "    </tr>\n",
              "  </tbody>\n",
              "</table>\n",
              "</div>\n",
              "      <button class=\"colab-df-convert\" onclick=\"convertToInteractive('df-b17b1f8e-7be1-4a35-84fb-effa5edcb7e0')\"\n",
              "              title=\"Convert this dataframe to an interactive table.\"\n",
              "              style=\"display:none;\">\n",
              "        \n",
              "  <svg xmlns=\"http://www.w3.org/2000/svg\" height=\"24px\"viewBox=\"0 0 24 24\"\n",
              "       width=\"24px\">\n",
              "    <path d=\"M0 0h24v24H0V0z\" fill=\"none\"/>\n",
              "    <path d=\"M18.56 5.44l.94 2.06.94-2.06 2.06-.94-2.06-.94-.94-2.06-.94 2.06-2.06.94zm-11 1L8.5 8.5l.94-2.06 2.06-.94-2.06-.94L8.5 2.5l-.94 2.06-2.06.94zm10 10l.94 2.06.94-2.06 2.06-.94-2.06-.94-.94-2.06-.94 2.06-2.06.94z\"/><path d=\"M17.41 7.96l-1.37-1.37c-.4-.4-.92-.59-1.43-.59-.52 0-1.04.2-1.43.59L10.3 9.45l-7.72 7.72c-.78.78-.78 2.05 0 2.83L4 21.41c.39.39.9.59 1.41.59.51 0 1.02-.2 1.41-.59l7.78-7.78 2.81-2.81c.8-.78.8-2.07 0-2.86zM5.41 20L4 18.59l7.72-7.72 1.47 1.35L5.41 20z\"/>\n",
              "  </svg>\n",
              "      </button>\n",
              "      \n",
              "  <style>\n",
              "    .colab-df-container {\n",
              "      display:flex;\n",
              "      flex-wrap:wrap;\n",
              "      gap: 12px;\n",
              "    }\n",
              "\n",
              "    .colab-df-convert {\n",
              "      background-color: #E8F0FE;\n",
              "      border: none;\n",
              "      border-radius: 50%;\n",
              "      cursor: pointer;\n",
              "      display: none;\n",
              "      fill: #1967D2;\n",
              "      height: 32px;\n",
              "      padding: 0 0 0 0;\n",
              "      width: 32px;\n",
              "    }\n",
              "\n",
              "    .colab-df-convert:hover {\n",
              "      background-color: #E2EBFA;\n",
              "      box-shadow: 0px 1px 2px rgba(60, 64, 67, 0.3), 0px 1px 3px 1px rgba(60, 64, 67, 0.15);\n",
              "      fill: #174EA6;\n",
              "    }\n",
              "\n",
              "    [theme=dark] .colab-df-convert {\n",
              "      background-color: #3B4455;\n",
              "      fill: #D2E3FC;\n",
              "    }\n",
              "\n",
              "    [theme=dark] .colab-df-convert:hover {\n",
              "      background-color: #434B5C;\n",
              "      box-shadow: 0px 1px 3px 1px rgba(0, 0, 0, 0.15);\n",
              "      filter: drop-shadow(0px 1px 2px rgba(0, 0, 0, 0.3));\n",
              "      fill: #FFFFFF;\n",
              "    }\n",
              "  </style>\n",
              "\n",
              "      <script>\n",
              "        const buttonEl =\n",
              "          document.querySelector('#df-b17b1f8e-7be1-4a35-84fb-effa5edcb7e0 button.colab-df-convert');\n",
              "        buttonEl.style.display =\n",
              "          google.colab.kernel.accessAllowed ? 'block' : 'none';\n",
              "\n",
              "        async function convertToInteractive(key) {\n",
              "          const element = document.querySelector('#df-b17b1f8e-7be1-4a35-84fb-effa5edcb7e0');\n",
              "          const dataTable =\n",
              "            await google.colab.kernel.invokeFunction('convertToInteractive',\n",
              "                                                     [key], {});\n",
              "          if (!dataTable) return;\n",
              "\n",
              "          const docLinkHtml = 'Like what you see? Visit the ' +\n",
              "            '<a target=\"_blank\" href=https://colab.research.google.com/notebooks/data_table.ipynb>data table notebook</a>'\n",
              "            + ' to learn more about interactive tables.';\n",
              "          element.innerHTML = '';\n",
              "          dataTable['output_type'] = 'display_data';\n",
              "          await google.colab.output.renderOutput(dataTable, element);\n",
              "          const docLink = document.createElement('div');\n",
              "          docLink.innerHTML = docLinkHtml;\n",
              "          element.appendChild(docLink);\n",
              "        }\n",
              "      </script>\n",
              "    </div>\n",
              "  </div>\n",
              "  "
            ]
          },
          "metadata": {},
          "execution_count": 4
        }
      ]
    },
    {
      "cell_type": "code",
      "source": [
        "train.info()\n",
        "train.Stay.unique()"
      ],
      "metadata": {
        "colab": {
          "base_uri": "https://localhost:8080/"
        },
        "id": "LX1I1u29yoAT",
        "outputId": "7a2b636e-8e90-41a2-ae71-2a68c0a0ce0e"
      },
      "execution_count": 5,
      "outputs": [
        {
          "output_type": "stream",
          "name": "stdout",
          "text": [
            "<class 'pandas.core.frame.DataFrame'>\n",
            "RangeIndex: 50057 entries, 0 to 50056\n",
            "Data columns (total 18 columns):\n",
            " #   Column                             Non-Null Count  Dtype  \n",
            "---  ------                             --------------  -----  \n",
            " 0   case_id                            50057 non-null  int64  \n",
            " 1   Hospital_code                      50057 non-null  int64  \n",
            " 2   Hospital_type_code                 50057 non-null  object \n",
            " 3   City_Code_Hospital                 50057 non-null  int64  \n",
            " 4   Hospital_region_code               50057 non-null  object \n",
            " 5   Available Extra Rooms in Hospital  50057 non-null  int64  \n",
            " 6   Department                         50057 non-null  object \n",
            " 7   Ward_Type                          50057 non-null  object \n",
            " 8   Ward_Facility_Code                 50057 non-null  object \n",
            " 9   Bed Grade                          50047 non-null  float64\n",
            " 10  patientid                          50056 non-null  float64\n",
            " 11  City_Code_Patient                  49601 non-null  float64\n",
            " 12  Type of Admission                  50056 non-null  object \n",
            " 13  Severity of Illness                50056 non-null  object \n",
            " 14  Visitors with Patient              50056 non-null  float64\n",
            " 15  Age                                50056 non-null  object \n",
            " 16  Admission_Deposit                  50056 non-null  float64\n",
            " 17  Stay                               50056 non-null  object \n",
            "dtypes: float64(5), int64(4), object(9)\n",
            "memory usage: 6.9+ MB\n"
          ]
        },
        {
          "output_type": "execute_result",
          "data": {
            "text/plain": [
              "array(['0-10', '41-50', '31-40', '11-20', '51-60', '21-30', '71-80',\n",
              "       'More than 100 Days', '81-90', '61-70', '91-100', nan],\n",
              "      dtype=object)"
            ]
          },
          "metadata": {},
          "execution_count": 5
        }
      ]
    },
    {
      "cell_type": "code",
      "source": [
        "train.isnull().sum().sort_values(ascending = False)"
      ],
      "metadata": {
        "colab": {
          "base_uri": "https://localhost:8080/"
        },
        "id": "VSM4JOmxzsR1",
        "outputId": "543aeea8-8761-42ea-9351-fbfaf5fe2dcb"
      },
      "execution_count": 6,
      "outputs": [
        {
          "output_type": "execute_result",
          "data": {
            "text/plain": [
              "City_Code_Patient                    456\n",
              "Bed Grade                             10\n",
              "patientid                              1\n",
              "Admission_Deposit                      1\n",
              "Age                                    1\n",
              "Visitors with Patient                  1\n",
              "Severity of Illness                    1\n",
              "Type of Admission                      1\n",
              "Stay                                   1\n",
              "Hospital_code                          0\n",
              "Ward_Facility_Code                     0\n",
              "Ward_Type                              0\n",
              "Department                             0\n",
              "Available Extra Rooms in Hospital      0\n",
              "Hospital_region_code                   0\n",
              "City_Code_Hospital                     0\n",
              "Hospital_type_code                     0\n",
              "case_id                                0\n",
              "dtype: int64"
            ]
          },
          "metadata": {},
          "execution_count": 6
        }
      ]
    },
    {
      "cell_type": "code",
      "source": [
        "train.shape"
      ],
      "metadata": {
        "colab": {
          "base_uri": "https://localhost:8080/"
        },
        "id": "Z0uPIzDq0KL_",
        "outputId": "72c24361-57d4-4a71-f09a-63607d920d74"
      },
      "execution_count": 7,
      "outputs": [
        {
          "output_type": "execute_result",
          "data": {
            "text/plain": [
              "(50057, 18)"
            ]
          },
          "metadata": {},
          "execution_count": 7
        }
      ]
    },
    {
      "cell_type": "code",
      "source": [
        "for i in train.columns:\n",
        "    print(i, ':', train[i].nunique())"
      ],
      "metadata": {
        "colab": {
          "base_uri": "https://localhost:8080/"
        },
        "id": "bUf_J1930OBb",
        "outputId": "c7043f99-b84e-433d-b84d-4e7ed3d7fdbc"
      },
      "execution_count": 8,
      "outputs": [
        {
          "output_type": "stream",
          "name": "stdout",
          "text": [
            "case_id : 50057\n",
            "Hospital_code : 32\n",
            "Hospital_type_code : 7\n",
            "City_Code_Hospital : 11\n",
            "Hospital_region_code : 3\n",
            "Available Extra Rooms in Hospital : 13\n",
            "Department : 5\n",
            "Ward_Type : 6\n",
            "Ward_Facility_Code : 6\n",
            "Bed Grade : 4\n",
            "patientid : 10029\n",
            "City_Code_Patient : 35\n",
            "Type of Admission : 3\n",
            "Severity of Illness : 3\n",
            "Visitors with Patient : 25\n",
            "Age : 10\n",
            "Admission_Deposit : 5617\n",
            "Stay : 11\n"
          ]
        }
      ]
    },
    {
      "cell_type": "markdown",
      "source": [
        "Data Preparation "
      ],
      "metadata": {
        "id": "9WYd-Sd51y50"
      }
    },
    {
      "cell_type": "code",
      "source": [
        "train['Bed Grade'].fillna(train['Bed Grade'].mode()[0], inplace = True)\n",
        "test['Bed Grade'].fillna(test['Bed Grade'].mode()[0], inplace = True)"
      ],
      "metadata": {
        "id": "Rfb9d_Ht0kBe"
      },
      "execution_count": 9,
      "outputs": []
    },
    {
      "cell_type": "code",
      "source": [
        "train['City_Code_Patient'].fillna(train['City_Code_Patient'].mode()[0], inplace = True)\n",
        "test['City_Code_Patient'].fillna(test['City_Code_Patient'].mode()[0], inplace = True)"
      ],
      "metadata": {
        "id": "O0OYkT6H07WG"
      },
      "execution_count": 10,
      "outputs": []
    },
    {
      "cell_type": "code",
      "source": [
        "from sklearn.preprocessing import LabelEncoder\n",
        "le = LabelEncoder()\n",
        "train['Stay'] = le.fit_transform(train['Stay'].astype('str'))"
      ],
      "metadata": {
        "id": "Az50m4n11D9G"
      },
      "execution_count": 11,
      "outputs": []
    },
    {
      "cell_type": "code",
      "source": [
        "train.head()"
      ],
      "metadata": {
        "colab": {
          "base_uri": "https://localhost:8080/",
          "height": 409
        },
        "id": "Sukr59Uz1MsP",
        "outputId": "61fa2d07-fe3b-4494-f72b-575f4f023f25"
      },
      "execution_count": 12,
      "outputs": [
        {
          "output_type": "execute_result",
          "data": {
            "text/plain": [
              "   case_id  Hospital_code Hospital_type_code  City_Code_Hospital  \\\n",
              "0        1              8                  c                   3   \n",
              "1        2              2                  c                   5   \n",
              "2        3             10                  e                   1   \n",
              "3        4             26                  b                   2   \n",
              "4        5             26                  b                   2   \n",
              "\n",
              "  Hospital_region_code  Available Extra Rooms in Hospital    Department  \\\n",
              "0                    Z                                  3  radiotherapy   \n",
              "1                    Z                                  2  radiotherapy   \n",
              "2                    X                                  2    anesthesia   \n",
              "3                    Y                                  2  radiotherapy   \n",
              "4                    Y                                  2  radiotherapy   \n",
              "\n",
              "  Ward_Type Ward_Facility_Code  Bed Grade  patientid  City_Code_Patient  \\\n",
              "0         R                  F        2.0    31397.0                7.0   \n",
              "1         S                  F        2.0    31397.0                7.0   \n",
              "2         S                  E        2.0    31397.0                7.0   \n",
              "3         R                  D        2.0    31397.0                7.0   \n",
              "4         S                  D        2.0    31397.0                7.0   \n",
              "\n",
              "  Type of Admission Severity of Illness  Visitors with Patient    Age  \\\n",
              "0         Emergency             Extreme                    2.0  51-60   \n",
              "1            Trauma             Extreme                    2.0  51-60   \n",
              "2            Trauma             Extreme                    2.0  51-60   \n",
              "3            Trauma             Extreme                    2.0  51-60   \n",
              "4            Trauma             Extreme                    2.0  51-60   \n",
              "\n",
              "   Admission_Deposit  Stay  \n",
              "0             4911.0     0  \n",
              "1             5954.0     4  \n",
              "2             4745.0     3  \n",
              "3             7272.0     4  \n",
              "4             5558.0     4  "
            ],
            "text/html": [
              "\n",
              "  <div id=\"df-e1f1db8c-145e-4bdc-87ba-8c71efec18a9\">\n",
              "    <div class=\"colab-df-container\">\n",
              "      <div>\n",
              "<style scoped>\n",
              "    .dataframe tbody tr th:only-of-type {\n",
              "        vertical-align: middle;\n",
              "    }\n",
              "\n",
              "    .dataframe tbody tr th {\n",
              "        vertical-align: top;\n",
              "    }\n",
              "\n",
              "    .dataframe thead th {\n",
              "        text-align: right;\n",
              "    }\n",
              "</style>\n",
              "<table border=\"1\" class=\"dataframe\">\n",
              "  <thead>\n",
              "    <tr style=\"text-align: right;\">\n",
              "      <th></th>\n",
              "      <th>case_id</th>\n",
              "      <th>Hospital_code</th>\n",
              "      <th>Hospital_type_code</th>\n",
              "      <th>City_Code_Hospital</th>\n",
              "      <th>Hospital_region_code</th>\n",
              "      <th>Available Extra Rooms in Hospital</th>\n",
              "      <th>Department</th>\n",
              "      <th>Ward_Type</th>\n",
              "      <th>Ward_Facility_Code</th>\n",
              "      <th>Bed Grade</th>\n",
              "      <th>patientid</th>\n",
              "      <th>City_Code_Patient</th>\n",
              "      <th>Type of Admission</th>\n",
              "      <th>Severity of Illness</th>\n",
              "      <th>Visitors with Patient</th>\n",
              "      <th>Age</th>\n",
              "      <th>Admission_Deposit</th>\n",
              "      <th>Stay</th>\n",
              "    </tr>\n",
              "  </thead>\n",
              "  <tbody>\n",
              "    <tr>\n",
              "      <th>0</th>\n",
              "      <td>1</td>\n",
              "      <td>8</td>\n",
              "      <td>c</td>\n",
              "      <td>3</td>\n",
              "      <td>Z</td>\n",
              "      <td>3</td>\n",
              "      <td>radiotherapy</td>\n",
              "      <td>R</td>\n",
              "      <td>F</td>\n",
              "      <td>2.0</td>\n",
              "      <td>31397.0</td>\n",
              "      <td>7.0</td>\n",
              "      <td>Emergency</td>\n",
              "      <td>Extreme</td>\n",
              "      <td>2.0</td>\n",
              "      <td>51-60</td>\n",
              "      <td>4911.0</td>\n",
              "      <td>0</td>\n",
              "    </tr>\n",
              "    <tr>\n",
              "      <th>1</th>\n",
              "      <td>2</td>\n",
              "      <td>2</td>\n",
              "      <td>c</td>\n",
              "      <td>5</td>\n",
              "      <td>Z</td>\n",
              "      <td>2</td>\n",
              "      <td>radiotherapy</td>\n",
              "      <td>S</td>\n",
              "      <td>F</td>\n",
              "      <td>2.0</td>\n",
              "      <td>31397.0</td>\n",
              "      <td>7.0</td>\n",
              "      <td>Trauma</td>\n",
              "      <td>Extreme</td>\n",
              "      <td>2.0</td>\n",
              "      <td>51-60</td>\n",
              "      <td>5954.0</td>\n",
              "      <td>4</td>\n",
              "    </tr>\n",
              "    <tr>\n",
              "      <th>2</th>\n",
              "      <td>3</td>\n",
              "      <td>10</td>\n",
              "      <td>e</td>\n",
              "      <td>1</td>\n",
              "      <td>X</td>\n",
              "      <td>2</td>\n",
              "      <td>anesthesia</td>\n",
              "      <td>S</td>\n",
              "      <td>E</td>\n",
              "      <td>2.0</td>\n",
              "      <td>31397.0</td>\n",
              "      <td>7.0</td>\n",
              "      <td>Trauma</td>\n",
              "      <td>Extreme</td>\n",
              "      <td>2.0</td>\n",
              "      <td>51-60</td>\n",
              "      <td>4745.0</td>\n",
              "      <td>3</td>\n",
              "    </tr>\n",
              "    <tr>\n",
              "      <th>3</th>\n",
              "      <td>4</td>\n",
              "      <td>26</td>\n",
              "      <td>b</td>\n",
              "      <td>2</td>\n",
              "      <td>Y</td>\n",
              "      <td>2</td>\n",
              "      <td>radiotherapy</td>\n",
              "      <td>R</td>\n",
              "      <td>D</td>\n",
              "      <td>2.0</td>\n",
              "      <td>31397.0</td>\n",
              "      <td>7.0</td>\n",
              "      <td>Trauma</td>\n",
              "      <td>Extreme</td>\n",
              "      <td>2.0</td>\n",
              "      <td>51-60</td>\n",
              "      <td>7272.0</td>\n",
              "      <td>4</td>\n",
              "    </tr>\n",
              "    <tr>\n",
              "      <th>4</th>\n",
              "      <td>5</td>\n",
              "      <td>26</td>\n",
              "      <td>b</td>\n",
              "      <td>2</td>\n",
              "      <td>Y</td>\n",
              "      <td>2</td>\n",
              "      <td>radiotherapy</td>\n",
              "      <td>S</td>\n",
              "      <td>D</td>\n",
              "      <td>2.0</td>\n",
              "      <td>31397.0</td>\n",
              "      <td>7.0</td>\n",
              "      <td>Trauma</td>\n",
              "      <td>Extreme</td>\n",
              "      <td>2.0</td>\n",
              "      <td>51-60</td>\n",
              "      <td>5558.0</td>\n",
              "      <td>4</td>\n",
              "    </tr>\n",
              "  </tbody>\n",
              "</table>\n",
              "</div>\n",
              "      <button class=\"colab-df-convert\" onclick=\"convertToInteractive('df-e1f1db8c-145e-4bdc-87ba-8c71efec18a9')\"\n",
              "              title=\"Convert this dataframe to an interactive table.\"\n",
              "              style=\"display:none;\">\n",
              "        \n",
              "  <svg xmlns=\"http://www.w3.org/2000/svg\" height=\"24px\"viewBox=\"0 0 24 24\"\n",
              "       width=\"24px\">\n",
              "    <path d=\"M0 0h24v24H0V0z\" fill=\"none\"/>\n",
              "    <path d=\"M18.56 5.44l.94 2.06.94-2.06 2.06-.94-2.06-.94-.94-2.06-.94 2.06-2.06.94zm-11 1L8.5 8.5l.94-2.06 2.06-.94-2.06-.94L8.5 2.5l-.94 2.06-2.06.94zm10 10l.94 2.06.94-2.06 2.06-.94-2.06-.94-.94-2.06-.94 2.06-2.06.94z\"/><path d=\"M17.41 7.96l-1.37-1.37c-.4-.4-.92-.59-1.43-.59-.52 0-1.04.2-1.43.59L10.3 9.45l-7.72 7.72c-.78.78-.78 2.05 0 2.83L4 21.41c.39.39.9.59 1.41.59.51 0 1.02-.2 1.41-.59l7.78-7.78 2.81-2.81c.8-.78.8-2.07 0-2.86zM5.41 20L4 18.59l7.72-7.72 1.47 1.35L5.41 20z\"/>\n",
              "  </svg>\n",
              "      </button>\n",
              "      \n",
              "  <style>\n",
              "    .colab-df-container {\n",
              "      display:flex;\n",
              "      flex-wrap:wrap;\n",
              "      gap: 12px;\n",
              "    }\n",
              "\n",
              "    .colab-df-convert {\n",
              "      background-color: #E8F0FE;\n",
              "      border: none;\n",
              "      border-radius: 50%;\n",
              "      cursor: pointer;\n",
              "      display: none;\n",
              "      fill: #1967D2;\n",
              "      height: 32px;\n",
              "      padding: 0 0 0 0;\n",
              "      width: 32px;\n",
              "    }\n",
              "\n",
              "    .colab-df-convert:hover {\n",
              "      background-color: #E2EBFA;\n",
              "      box-shadow: 0px 1px 2px rgba(60, 64, 67, 0.3), 0px 1px 3px 1px rgba(60, 64, 67, 0.15);\n",
              "      fill: #174EA6;\n",
              "    }\n",
              "\n",
              "    [theme=dark] .colab-df-convert {\n",
              "      background-color: #3B4455;\n",
              "      fill: #D2E3FC;\n",
              "    }\n",
              "\n",
              "    [theme=dark] .colab-df-convert:hover {\n",
              "      background-color: #434B5C;\n",
              "      box-shadow: 0px 1px 3px 1px rgba(0, 0, 0, 0.15);\n",
              "      filter: drop-shadow(0px 1px 2px rgba(0, 0, 0, 0.3));\n",
              "      fill: #FFFFFF;\n",
              "    }\n",
              "  </style>\n",
              "\n",
              "      <script>\n",
              "        const buttonEl =\n",
              "          document.querySelector('#df-e1f1db8c-145e-4bdc-87ba-8c71efec18a9 button.colab-df-convert');\n",
              "        buttonEl.style.display =\n",
              "          google.colab.kernel.accessAllowed ? 'block' : 'none';\n",
              "\n",
              "        async function convertToInteractive(key) {\n",
              "          const element = document.querySelector('#df-e1f1db8c-145e-4bdc-87ba-8c71efec18a9');\n",
              "          const dataTable =\n",
              "            await google.colab.kernel.invokeFunction('convertToInteractive',\n",
              "                                                     [key], {});\n",
              "          if (!dataTable) return;\n",
              "\n",
              "          const docLinkHtml = 'Like what you see? Visit the ' +\n",
              "            '<a target=\"_blank\" href=https://colab.research.google.com/notebooks/data_table.ipynb>data table notebook</a>'\n",
              "            + ' to learn more about interactive tables.';\n",
              "          element.innerHTML = '';\n",
              "          dataTable['output_type'] = 'display_data';\n",
              "          await google.colab.output.renderOutput(dataTable, element);\n",
              "          const docLink = document.createElement('div');\n",
              "          docLink.innerHTML = docLinkHtml;\n",
              "          element.appendChild(docLink);\n",
              "        }\n",
              "      </script>\n",
              "    </div>\n",
              "  </div>\n",
              "  "
            ]
          },
          "metadata": {},
          "execution_count": 12
        }
      ]
    },
    {
      "cell_type": "code",
      "source": [
        "test['Stay'] = -1\n",
        "df = pd.concat([train, test])\n",
        "df.shape"
      ],
      "metadata": {
        "colab": {
          "base_uri": "https://localhost:8080/"
        },
        "id": "FzH_-EZx1RPi",
        "outputId": "e937585a-2e7c-4816-d181-9865607fa853"
      },
      "execution_count": 13,
      "outputs": [
        {
          "output_type": "execute_result",
          "data": {
            "text/plain": [
              "(103231, 18)"
            ]
          },
          "metadata": {},
          "execution_count": 13
        }
      ]
    },
    {
      "cell_type": "code",
      "source": [
        "for i in ['Hospital_type_code', 'Hospital_region_code', 'Department',\n",
        "          'Ward_Type', 'Ward_Facility_Code', 'Type of Admission', 'Severity of Illness', 'Age']:\n",
        "    le = LabelEncoder()\n",
        "    df[i] = le.fit_transform(df[i].astype(str))"
      ],
      "metadata": {
        "id": "m7530KWq1gkr"
      },
      "execution_count": 14,
      "outputs": []
    },
    {
      "cell_type": "code",
      "source": [
        "train = df[df['Stay']!=-1]\n",
        "test = df[df['Stay']==-1]"
      ],
      "metadata": {
        "id": "CZk3pG4w1kvr"
      },
      "execution_count": 15,
      "outputs": []
    },
    {
      "cell_type": "code",
      "source": [
        "def get_countid_enocde(train, test, cols, name):\n",
        "  temp = train.groupby(cols)['case_id'].count().reset_index().rename(columns = {'case_id': name})\n",
        "  temp2 = test.groupby(cols)['case_id'].count().reset_index().rename(columns = {'case_id': name})\n",
        "  train = pd.merge(train, temp, how='left', on= cols)\n",
        "  test = pd.merge(test,temp2, how='left', on= cols)\n",
        "  train[name] = train[name].astype('float')\n",
        "  test[name] = test[name].astype('float')\n",
        "  train[name].fillna(np.median(temp[name]), inplace = True)\n",
        "  test[name].fillna(np.median(temp2[name]), inplace = True)\n",
        "  return train, test"
      ],
      "metadata": {
        "id": "fINU2dF72YTc"
      },
      "execution_count": 17,
      "outputs": []
    },
    {
      "cell_type": "code",
      "source": [
        "train, test = get_countid_enocde(train, test, ['patientid'], name = 'count_id_patient')\n",
        "train, test = get_countid_enocde(train, test, \n",
        "                                 ['patientid', 'Hospital_region_code'], name = 'count_id_patient_hospitalCode')\n",
        "train, test = get_countid_enocde(train, test, \n",
        "                                 ['patientid', 'Ward_Facility_Code'], name = 'count_id_patient_wardfacilityCode')"
      ],
      "metadata": {
        "id": "o5Op_r_j2sf2"
      },
      "execution_count": 18,
      "outputs": []
    },
    {
      "cell_type": "code",
      "source": [
        "test1 = test.drop(['Stay', 'patientid', 'Hospital_region_code', 'Ward_Facility_Code'], axis =1)\n",
        "train1 = train.drop(['case_id', 'patientid', 'Hospital_region_code', 'Ward_Facility_Code'], axis =1)"
      ],
      "metadata": {
        "id": "qJMuoq1L3Fmv"
      },
      "execution_count": 19,
      "outputs": []
    },
    {
      "cell_type": "code",
      "source": [
        "X1 = train1.drop('Stay', axis =1)\n",
        "y1 = train1['Stay']\n",
        "from sklearn.model_selection import train_test_split\n",
        "X_train, X_test, y_train, y_test = train_test_split(X1, y1, test_size =0.20, random_state =100)"
      ],
      "metadata": {
        "id": "BUikg_We3J1n"
      },
      "execution_count": 20,
      "outputs": []
    }
  ]
}